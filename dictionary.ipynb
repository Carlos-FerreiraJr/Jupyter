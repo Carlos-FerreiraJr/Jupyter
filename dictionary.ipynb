{
 "cells": [
  {
   "cell_type": "markdown",
   "metadata": {},
   "source": [
    "# My dictionary "
   ]
  },
  {
   "cell_type": "markdown",
   "metadata": {},
   "source": [
    "## numpy"
   ]
  },
  {
   "cell_type": "code",
   "execution_count": 77,
   "metadata": {},
   "outputs": [],
   "source": [
    "import numpy as np\n",
    "\n",
    "#ARRAY \n",
    "arrays  =  np.array([[1,2,3],[4,5,6]])       # create an array with numpy\n",
    "zeros   =  np.zeros((5,5))         # array of zero\n",
    "ones    =  np.ones((5,5))          # array of one\n",
    "full    =  np.full((5,5),zeros)    # full with any number\n",
    "eye     =  np.eye(5)               # indetify matrix\n",
    "random  =  np.random.random((5,5)) # random numbers\n",
    "\n",
    "#MATH\n",
    "add     =  np.add(eye,ones)         # add or x+y \n",
    "sub     =  np.subtract(eye,ones)    # asubtract or x-y  \n",
    "mult    =  np.multiply(eye,ones)    # multiply or x*y  \n",
    "div     =  np.divide(eye,ones)      # divide or x/y  \n",
    "sqrt    =  np.sqrt(eye,ones)        # sqrt  \n",
    "dot     =  np.dot(eye,ones)         # to multiply a vector by a matrix, and to multiply matrices\n",
    "dot2    =  eye.dot(ones)            # anpther way to use dot \n",
    "sumAll  =  np.sum(arrays)           # compute the sum of all ementents in array\n",
    "sumCol  =  np.sum(arrays,axis=0)    # sum of column\n",
    "sumRow  =  np.sum(arrays,axis=1)    # sum of Row\n",
    " \n"
   ]
  },
  {
   "cell_type": "code",
   "execution_count": 93,
   "metadata": {},
   "outputs": [
    {
     "name": "stdout",
     "output_type": "stream",
     "text": [
      "[5 7 9]\n",
      "[5 7 9]\n"
     ]
    }
   ],
   "source": []
  }
 ],
 "metadata": {
  "kernelspec": {
   "display_name": "Python 3",
   "language": "python",
   "name": "python3"
  },
  "language_info": {
   "codemirror_mode": {
    "name": "ipython",
    "version": 3
   },
   "file_extension": ".py",
   "mimetype": "text/x-python",
   "name": "python",
   "nbconvert_exporter": "python",
   "pygments_lexer": "ipython3",
   "version": "3.7.1"
  }
 },
 "nbformat": 4,
 "nbformat_minor": 2
}
